{
 "cells": [
  {
   "cell_type": "markdown",
   "id": "1d2824b7-c3ee-4098-aa90-502b7daa60df",
   "metadata": {
    "tags": []
   },
   "source": [
    "# Data Science Tools and Ecosystem\n",
    "## In this notebook, Data Science Tools and Ecosystem are summarized.\n",
    "\n",
    "**Objectives:\n",
    "<ul>\n",
    "    <li> Popular tools </li>\n",
    "    <li> Popular packages </li>\n",
    "    <li> code samples </li>\n",
    "    </ul\n",
    "\n",
    "### Some of the popular languages that Data Scientists use are:\n",
    "<ul>\n",
    "    <li> Python </li>\n",
    "    <li> JAVA </li>\n",
    "    <li> R </li>\n",
    "    </ul>\n",
    "\n",
    "### Some of the commonly used libraries used by Data Scientists include:\n",
    "\n",
    "<ul>\n",
    "    <li> NumPy </li>\n",
    "    <li> Panda </li>\n",
    "    <li> Tidyverse </li>\n",
    "    </ul>\n",
    "    \n",
    "    <table>\n",
    "    <tr>\n",
    "    <th>Data Science Tools</th>\n",
    "    </tr>\n",
    "    <tr>\n",
    "    <td> Neural Networks </td>\n",
    "    <td>ML</td>\n",
    "    <td>Deep Learning </td>\n",
    "    </tr>\n",
    "    </table>"
   ]
  },
  {
   "cell_type": "markdown",
   "id": "557493d3-7b75-4144-9a69-3ca6daeed4ed",
   "metadata": {},
   "source": [
    "###Below are a few examples of evaluating arithmetic expressions in Python"
   ]
  },
  {
   "cell_type": "code",
   "execution_count": 12,
   "id": "a1b6329d-9ab9-4639-8909-75ef0b89d2f5",
   "metadata": {
    "tags": []
   },
   "outputs": [
    {
     "name": "stdout",
     "output_type": "stream",
     "text": [
      "17\n"
     ]
    }
   ],
   "source": [
    "'''This a simple arithmetic expression to mutiply then add integers'''\n",
    "\n",
    "y=(3*4)+5\n",
    "\n",
    "print(y)"
   ]
  },
  {
   "cell_type": "code",
   "execution_count": 11,
   "id": "50075982-0920-498c-abd2-a82d1417b12d",
   "metadata": {
    "tags": []
   },
   "outputs": [
    {
     "name": "stdout",
     "output_type": "stream",
     "text": [
      "3.3333333333333335\n"
     ]
    }
   ],
   "source": [
    "minutes=200\n",
    "hours=minutes/60\n",
    "print(hours)"
   ]
  },
  {
   "cell_type": "markdown",
   "id": "925933af-311c-4f89-883d-32b759174a76",
   "metadata": {},
   "source": [
    "##Author <br>\n",
    "Shubham Singh"
   ]
  }
 ],
 "metadata": {
  "kernelspec": {
   "display_name": "Python",
   "language": "python",
   "name": "conda-env-python-py"
  },
  "language_info": {
   "codemirror_mode": {
    "name": "ipython",
    "version": 3
   },
   "file_extension": ".py",
   "mimetype": "text/x-python",
   "name": "python",
   "nbconvert_exporter": "python",
   "pygments_lexer": "ipython3",
   "version": "3.7.12"
  }
 },
 "nbformat": 4,
 "nbformat_minor": 5
}
